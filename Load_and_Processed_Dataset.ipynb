{
 "cells": [
  {
   "cell_type": "code",
   "execution_count": 1,
   "id": "8267ad97",
   "metadata": {
    "_cell_guid": "b1076dfc-b9ad-4769-8c92-a6c4dae69d19",
    "_uuid": "8f2839f25d086af736a60e9eeb907d3b93b6e0e5",
    "execution": {
     "iopub.execute_input": "2021-11-06T19:39:03.269409Z",
     "iopub.status.busy": "2021-11-06T19:39:03.267921Z",
     "iopub.status.idle": "2021-11-06T19:39:08.886469Z",
     "shell.execute_reply": "2021-11-06T19:39:08.887024Z",
     "shell.execute_reply.started": "2021-11-06T17:19:48.421445Z"
    },
    "id": "pMItZeDA6lQU",
    "papermill": {
     "duration": 5.647448,
     "end_time": "2021-11-06T19:39:08.887317",
     "exception": false,
     "start_time": "2021-11-06T19:39:03.239869",
     "status": "completed"
    },
    "tags": []
   },
   "outputs": [],
   "source": [
    "import tensorflow as tf\n",
    "import tensorflow.keras.layers as tfl\n",
    "import os\n",
    "from tqdm import tqdm\n",
    "import cv2\n",
    "import matplotlib.pyplot as plt\n",
    "import numpy as np\n",
    "from PIL import Image\n",
    "from os.path import splitext\n",
    "import glob\n"
   ]
  },
  {
   "cell_type": "code",
   "execution_count": 1,
   "id": "53af8b5b",
   "metadata": {},
   "outputs": [],
   "source": [
    "import tensorflow as tf\n",
    "#from tensorflow import keras\n",
    "#from keras.models import *\n",
    "#from keras.layers import *\n",
    "#from keras.optimizers import *\n",
    "from keras import backend as keras\n",
    "#from keras.preprocessing.image import ImageDataGenerator\n",
    "from keras.callbacks import ModelCheckpoint, LearningRateScheduler\n",
    "import tensorflow.keras.layers as tfl\n",
    "import os\n",
    "from tqdm import tqdm\n",
    "import cv2\n",
    "import matplotlib.pyplot as plt\n",
    "import numpy as np\n",
    "import pandas as pd\n",
    "from sklearn.model_selection import train_test_split\n",
    "from tensorflow.keras.layers import Conv2D,MaxPool2D,Dropout,UpSampling2D,Concatenate,Input,Softmax\n",
    "from tensorflow.keras import Model\n",
    "#from tensorflow.keras.callbacks import ModelCheckpoint\n",
    "#from PIL import Image\n",
    "#from os.path import splitext\n",
    "from keras import backend as K\n",
    "import albumentations as A\n",
    "import glob"
   ]
  },
  {
   "cell_type": "code",
   "execution_count": 2,
   "id": "9febc87c",
   "metadata": {},
   "outputs": [],
   "source": [
    "def dice_coef(y_true, y_pred):\n",
    "    y_true_f = K.flatten(y_true)\n",
    "    y_pred_f = K.flatten(y_pred)\n",
    "    intersection = keras.sum(y_true_f * y_pred_f)\n",
    "    return (2. * intersection + 1) / (keras.sum(y_true_f) + keras.sum(y_pred_f) + 1)\n",
    "\n",
    "def dice_coef_loss(y_true, y_pred):\n",
    "    return -dice_coef(y_true, y_pred)\n",
    "\n",
    "filter_scale = 5/4\n",
    "\n",
    "def build_model(inputsize=(256,256,3),classes=None):\n",
    "    inputs = tf.keras.Input(shape=(inputsize))\n",
    "\n",
    "    conv = tfl.Conv2D(32*filter_scale, (3, 3), padding=\"same\",kernel_initializer='he_normal', name='Conv1')(inputs)\n",
    "    x=tfl.BatchNormalization()(conv)\n",
    "    x=tfl.LeakyReLU()(x)\n",
    "    x1 = tfl.Conv2D(32*filter_scale, (3, 3), padding=\"same\",kernel_initializer='he_normal', name='Conv2')(x)\n",
    "    x=tfl.BatchNormalization()(x1)\n",
    "    x=tfl.LeakyReLU()(x)\n",
    "    x = tfl.MaxPool2D(pool_size=(2, 2), strides=(2, 2), name='MaxPool1')(x)\n",
    "\n",
    "    x = tfl.Conv2D(64*filter_scale, (3, 3), padding=\"same\",kernel_initializer='he_normal', name='Conv3')(x)\n",
    "    x=tfl.BatchNormalization()(x)\n",
    "    x=tfl.LeakyReLU()(x)\n",
    "    x2 = tfl.Conv2D(64*filter_scale, (3, 3), padding=\"same\",kernel_initializer='he_normal', name='Conv4')(x)\n",
    "    x=tfl.BatchNormalization()(x2)\n",
    "    x=tfl.LeakyReLU()(x)\n",
    "    x = tfl.MaxPool2D(pool_size=(2, 2), name='MaxPool2')(x)\n",
    "\n",
    "    x = tfl.Conv2D(128*filter_scale, (3, 3), padding=\"same\",kernel_initializer='he_normal', name='Conv5')(x)\n",
    "    x=tfl.BatchNormalization()(x)\n",
    "    x=tfl.LeakyReLU()(x)\n",
    "    x3 = tfl.Conv2D(128*filter_scale, (3, 3), padding=\"same\",kernel_initializer='he_normal', name='Conv6')(x)\n",
    "    x=tfl.BatchNormalization()(x3)\n",
    "    x=tfl.LeakyReLU()(x)\n",
    "    x = tfl.MaxPool2D(pool_size=(2, 2), strides=(2, 2), name='MaxPool3')(x)\n",
    "\n",
    "    \n",
    "    x = tfl.Conv2D(256*filter_scale, (3, 3), padding=\"same\",kernel_initializer='he_normal', name='Conv7')(x)\n",
    "    x=tfl.BatchNormalization()(x)\n",
    "    x=tfl.LeakyReLU()(x)\n",
    "    x = tfl.Conv2D(256*filter_scale, (3, 3), padding=\"same\",kernel_initializer='he_normal', name='Conv8')(x)\n",
    "    x=tfl.BatchNormalization()(x)\n",
    "    x=tfl.LeakyReLU()(x)\n",
    "    x = tfl.Conv2D(256*filter_scale, (3, 3), padding=\"same\",kernel_initializer='he_normal', name='Conv9')(x)\n",
    "    x=tfl.BatchNormalization()(x)\n",
    "    x=tfl.LeakyReLU()(x)\n",
    "    \n",
    "    x = tfl.Conv2DTranspose(128*filter_scale, (3, 3), strides=2, padding=\"same\")(x)\n",
    "    x=tfl.BatchNormalization()(x)\n",
    "    x=tfl.LeakyReLU()(x)\n",
    "\n",
    "    x = tfl.concatenate([x, x3], axis=3)\n",
    "    \n",
    "    x = tfl.Conv2D(128*filter_scale, (3, 3), padding=\"same\",kernel_initializer='he_normal', name='Conv10')(x)\n",
    "    x=tfl.BatchNormalization()(x)\n",
    "    x=tfl.LeakyReLU()(x)\n",
    "    x = tfl.Conv2D(128*filter_scale, (3, 3), padding=\"same\",kernel_initializer='he_normal', name='Conv11')(x)\n",
    "    x=tfl.BatchNormalization()(x)\n",
    "    x=tfl.LeakyReLU()(x)\n",
    "    x = tfl.Conv2DTranspose(64*filter_scale, (3, 3), strides=2, padding=\"same\")(x)\n",
    "    x=tfl.BatchNormalization()(x)\n",
    "    x=tfl.LeakyReLU()(x)\n",
    "\n",
    "    x = tfl.concatenate([x, x2], axis=3)\n",
    "\n",
    "    x = tfl.Conv2D(64*filter_scale, (3, 3), padding=\"same\",kernel_initializer='he_normal', name='Conv12')(x)\n",
    "    x=tfl.BatchNormalization()(x)\n",
    "    x=tfl.LeakyReLU()(x)\n",
    "    x = tfl.Conv2D(64*filter_scale, (3, 3), padding=\"same\",kernel_initializer='he_normal', name='Conv13')(x)\n",
    "    x=tfl.BatchNormalization()(x)\n",
    "    x=tfl.LeakyReLU()(x)\n",
    "    \n",
    "    x = tfl.Conv2DTranspose(32*filter_scale, (3, 3), strides=2, padding=\"same\")(x)\n",
    "    x=tfl.BatchNormalization()(x)\n",
    "    x=tfl.LeakyReLU()(x)\n",
    "\n",
    "    x = tfl.concatenate([x, x1], axis=3)\n",
    "\n",
    "    x = tfl.Conv2D(32*filter_scale, (3, 3), padding=\"same\",kernel_initializer='he_normal', name='Conv14')(x)\n",
    "    x=tfl.BatchNormalization()(x)\n",
    "    x=tfl.LeakyReLU()(x)\n",
    "    x = tfl.Conv2D(32*filter_scale, (3, 3), padding=\"same\",kernel_initializer='he_normal', name='Conv15')(x)\n",
    "    x=tfl.BatchNormalization()(x)\n",
    "    x=tfl.LeakyReLU()(x)\n",
    "    \n",
    "    outputs = tfl.Conv2D(classes, (1, 1), padding=\"same\", activation='sigmoid', name='Outputs')(x)\n",
    "    final_model = tf.keras.Model(inputs=inputs, outputs=outputs)\n",
    "    final_model.summary()\n",
    "    return final_model"
   ]
  },
  {
   "cell_type": "code",
   "execution_count": 3,
   "id": "1d931632",
   "metadata": {},
   "outputs": [
    {
     "name": "stdout",
     "output_type": "stream",
     "text": [
      "Model: \"functional_1\"\n",
      "__________________________________________________________________________________________________\n",
      "Layer (type)                    Output Shape         Param #     Connected to                     \n",
      "==================================================================================================\n",
      "input_1 (InputLayer)            [(None, 256, 256, 3) 0                                            \n",
      "__________________________________________________________________________________________________\n",
      "Conv1 (Conv2D)                  (None, 256, 256, 40) 1120        input_1[0][0]                    \n",
      "__________________________________________________________________________________________________\n",
      "batch_normalization (BatchNorma (None, 256, 256, 40) 160         Conv1[0][0]                      \n",
      "__________________________________________________________________________________________________\n",
      "leaky_re_lu (LeakyReLU)         (None, 256, 256, 40) 0           batch_normalization[0][0]        \n",
      "__________________________________________________________________________________________________\n",
      "Conv2 (Conv2D)                  (None, 256, 256, 40) 14440       leaky_re_lu[0][0]                \n",
      "__________________________________________________________________________________________________\n",
      "batch_normalization_1 (BatchNor (None, 256, 256, 40) 160         Conv2[0][0]                      \n",
      "__________________________________________________________________________________________________\n",
      "leaky_re_lu_1 (LeakyReLU)       (None, 256, 256, 40) 0           batch_normalization_1[0][0]      \n",
      "__________________________________________________________________________________________________\n",
      "MaxPool1 (MaxPooling2D)         (None, 128, 128, 40) 0           leaky_re_lu_1[0][0]              \n",
      "__________________________________________________________________________________________________\n",
      "Conv3 (Conv2D)                  (None, 128, 128, 80) 28880       MaxPool1[0][0]                   \n",
      "__________________________________________________________________________________________________\n",
      "batch_normalization_2 (BatchNor (None, 128, 128, 80) 320         Conv3[0][0]                      \n",
      "__________________________________________________________________________________________________\n",
      "leaky_re_lu_2 (LeakyReLU)       (None, 128, 128, 80) 0           batch_normalization_2[0][0]      \n",
      "__________________________________________________________________________________________________\n",
      "Conv4 (Conv2D)                  (None, 128, 128, 80) 57680       leaky_re_lu_2[0][0]              \n",
      "__________________________________________________________________________________________________\n",
      "batch_normalization_3 (BatchNor (None, 128, 128, 80) 320         Conv4[0][0]                      \n",
      "__________________________________________________________________________________________________\n",
      "leaky_re_lu_3 (LeakyReLU)       (None, 128, 128, 80) 0           batch_normalization_3[0][0]      \n",
      "__________________________________________________________________________________________________\n",
      "MaxPool2 (MaxPooling2D)         (None, 64, 64, 80)   0           leaky_re_lu_3[0][0]              \n",
      "__________________________________________________________________________________________________\n",
      "Conv5 (Conv2D)                  (None, 64, 64, 160)  115360      MaxPool2[0][0]                   \n",
      "__________________________________________________________________________________________________\n",
      "batch_normalization_4 (BatchNor (None, 64, 64, 160)  640         Conv5[0][0]                      \n",
      "__________________________________________________________________________________________________\n",
      "leaky_re_lu_4 (LeakyReLU)       (None, 64, 64, 160)  0           batch_normalization_4[0][0]      \n",
      "__________________________________________________________________________________________________\n",
      "Conv6 (Conv2D)                  (None, 64, 64, 160)  230560      leaky_re_lu_4[0][0]              \n",
      "__________________________________________________________________________________________________\n",
      "batch_normalization_5 (BatchNor (None, 64, 64, 160)  640         Conv6[0][0]                      \n",
      "__________________________________________________________________________________________________\n",
      "leaky_re_lu_5 (LeakyReLU)       (None, 64, 64, 160)  0           batch_normalization_5[0][0]      \n",
      "__________________________________________________________________________________________________\n",
      "MaxPool3 (MaxPooling2D)         (None, 32, 32, 160)  0           leaky_re_lu_5[0][0]              \n",
      "__________________________________________________________________________________________________\n",
      "Conv7 (Conv2D)                  (None, 32, 32, 320)  461120      MaxPool3[0][0]                   \n",
      "__________________________________________________________________________________________________\n",
      "batch_normalization_6 (BatchNor (None, 32, 32, 320)  1280        Conv7[0][0]                      \n",
      "__________________________________________________________________________________________________\n",
      "leaky_re_lu_6 (LeakyReLU)       (None, 32, 32, 320)  0           batch_normalization_6[0][0]      \n",
      "__________________________________________________________________________________________________\n",
      "Conv8 (Conv2D)                  (None, 32, 32, 320)  921920      leaky_re_lu_6[0][0]              \n",
      "__________________________________________________________________________________________________\n",
      "batch_normalization_7 (BatchNor (None, 32, 32, 320)  1280        Conv8[0][0]                      \n",
      "__________________________________________________________________________________________________\n",
      "leaky_re_lu_7 (LeakyReLU)       (None, 32, 32, 320)  0           batch_normalization_7[0][0]      \n",
      "__________________________________________________________________________________________________\n",
      "Conv9 (Conv2D)                  (None, 32, 32, 320)  921920      leaky_re_lu_7[0][0]              \n",
      "__________________________________________________________________________________________________\n",
      "batch_normalization_8 (BatchNor (None, 32, 32, 320)  1280        Conv9[0][0]                      \n",
      "__________________________________________________________________________________________________\n",
      "leaky_re_lu_8 (LeakyReLU)       (None, 32, 32, 320)  0           batch_normalization_8[0][0]      \n",
      "__________________________________________________________________________________________________\n",
      "conv2d_transpose (Conv2DTranspo (None, 64, 64, 160)  460960      leaky_re_lu_8[0][0]              \n",
      "__________________________________________________________________________________________________\n",
      "batch_normalization_9 (BatchNor (None, 64, 64, 160)  640         conv2d_transpose[0][0]           \n",
      "__________________________________________________________________________________________________\n",
      "leaky_re_lu_9 (LeakyReLU)       (None, 64, 64, 160)  0           batch_normalization_9[0][0]      \n",
      "__________________________________________________________________________________________________\n",
      "concatenate (Concatenate)       (None, 64, 64, 320)  0           leaky_re_lu_9[0][0]              \n",
      "                                                                 Conv6[0][0]                      \n",
      "__________________________________________________________________________________________________\n",
      "Conv10 (Conv2D)                 (None, 64, 64, 160)  460960      concatenate[0][0]                \n",
      "__________________________________________________________________________________________________\n",
      "batch_normalization_10 (BatchNo (None, 64, 64, 160)  640         Conv10[0][0]                     \n",
      "__________________________________________________________________________________________________\n",
      "leaky_re_lu_10 (LeakyReLU)      (None, 64, 64, 160)  0           batch_normalization_10[0][0]     \n",
      "__________________________________________________________________________________________________\n",
      "Conv11 (Conv2D)                 (None, 64, 64, 160)  230560      leaky_re_lu_10[0][0]             \n",
      "__________________________________________________________________________________________________\n",
      "batch_normalization_11 (BatchNo (None, 64, 64, 160)  640         Conv11[0][0]                     \n",
      "__________________________________________________________________________________________________\n",
      "leaky_re_lu_11 (LeakyReLU)      (None, 64, 64, 160)  0           batch_normalization_11[0][0]     \n",
      "__________________________________________________________________________________________________\n",
      "conv2d_transpose_1 (Conv2DTrans (None, 128, 128, 80) 115280      leaky_re_lu_11[0][0]             \n",
      "__________________________________________________________________________________________________\n",
      "batch_normalization_12 (BatchNo (None, 128, 128, 80) 320         conv2d_transpose_1[0][0]         \n",
      "__________________________________________________________________________________________________\n",
      "leaky_re_lu_12 (LeakyReLU)      (None, 128, 128, 80) 0           batch_normalization_12[0][0]     \n",
      "__________________________________________________________________________________________________\n",
      "concatenate_1 (Concatenate)     (None, 128, 128, 160 0           leaky_re_lu_12[0][0]             \n",
      "                                                                 Conv4[0][0]                      \n",
      "__________________________________________________________________________________________________\n",
      "Conv12 (Conv2D)                 (None, 128, 128, 80) 115280      concatenate_1[0][0]              \n",
      "__________________________________________________________________________________________________\n",
      "batch_normalization_13 (BatchNo (None, 128, 128, 80) 320         Conv12[0][0]                     \n",
      "__________________________________________________________________________________________________\n",
      "leaky_re_lu_13 (LeakyReLU)      (None, 128, 128, 80) 0           batch_normalization_13[0][0]     \n",
      "__________________________________________________________________________________________________\n",
      "Conv13 (Conv2D)                 (None, 128, 128, 80) 57680       leaky_re_lu_13[0][0]             \n",
      "__________________________________________________________________________________________________\n",
      "batch_normalization_14 (BatchNo (None, 128, 128, 80) 320         Conv13[0][0]                     \n",
      "__________________________________________________________________________________________________\n",
      "leaky_re_lu_14 (LeakyReLU)      (None, 128, 128, 80) 0           batch_normalization_14[0][0]     \n",
      "__________________________________________________________________________________________________\n",
      "conv2d_transpose_2 (Conv2DTrans (None, 256, 256, 40) 28840       leaky_re_lu_14[0][0]             \n",
      "__________________________________________________________________________________________________\n",
      "batch_normalization_15 (BatchNo (None, 256, 256, 40) 160         conv2d_transpose_2[0][0]         \n",
      "__________________________________________________________________________________________________\n",
      "leaky_re_lu_15 (LeakyReLU)      (None, 256, 256, 40) 0           batch_normalization_15[0][0]     \n",
      "__________________________________________________________________________________________________\n",
      "concatenate_2 (Concatenate)     (None, 256, 256, 80) 0           leaky_re_lu_15[0][0]             \n",
      "                                                                 Conv2[0][0]                      \n",
      "__________________________________________________________________________________________________\n",
      "Conv14 (Conv2D)                 (None, 256, 256, 40) 28840       concatenate_2[0][0]              \n",
      "__________________________________________________________________________________________________\n",
      "batch_normalization_16 (BatchNo (None, 256, 256, 40) 160         Conv14[0][0]                     \n",
      "__________________________________________________________________________________________________\n",
      "leaky_re_lu_16 (LeakyReLU)      (None, 256, 256, 40) 0           batch_normalization_16[0][0]     \n",
      "__________________________________________________________________________________________________\n",
      "Conv15 (Conv2D)                 (None, 256, 256, 40) 14440       leaky_re_lu_16[0][0]             \n",
      "__________________________________________________________________________________________________\n",
      "batch_normalization_17 (BatchNo (None, 256, 256, 40) 160         Conv15[0][0]                     \n",
      "__________________________________________________________________________________________________\n",
      "leaky_re_lu_17 (LeakyReLU)      (None, 256, 256, 40) 0           batch_normalization_17[0][0]     \n",
      "__________________________________________________________________________________________________\n",
      "Outputs (Conv2D)                (None, 256, 256, 1)  41          leaky_re_lu_17[0][0]             \n",
      "==================================================================================================\n",
      "Total params: 4,275,321\n",
      "Trainable params: 4,270,601\n",
      "Non-trainable params: 4,720\n",
      "__________________________________________________________________________________________________\n"
     ]
    }
   ],
   "source": [
    "mymodel=build_model(classes=1)"
   ]
  },
  {
   "cell_type": "code",
   "execution_count": 4,
   "id": "7c24c9cb",
   "metadata": {},
   "outputs": [],
   "source": [
    "mymodel.compile(optimizer=tf.keras.optimizers.Adam(learning_rate=0.0004),\n",
    "                loss=[dice_coef_loss],\n",
    "                metrics = [dice_coef,tf.metrics.MeanIoU(num_classes = 2),tf.metrics.binary_accuracy]\n",
    "                )"
   ]
  },
  {
   "cell_type": "code",
   "execution_count": 5,
   "id": "78e11efd",
   "metadata": {},
   "outputs": [],
   "source": [
    "mymodel.load_weights(\"C:/Users/punti/pedestrian/pedestrian_good_model.h5\")"
   ]
  },
  {
   "cell_type": "code",
   "execution_count": 14,
   "id": "c150f422",
   "metadata": {},
   "outputs": [],
   "source": [
    "x_test = cv2.imread( \"C:/Users/punti/pedestrian/Webp.net-resizeimage (7).png\", cv2.COLOR_BGR2RGB)"
   ]
  },
  {
   "cell_type": "code",
   "execution_count": 15,
   "id": "bb9113eb",
   "metadata": {},
   "outputs": [],
   "source": [
    "x_test = cv2.resize(x_test, (256, 256),interpolation = cv2.INTER_AREA)\n",
    "x_test = cv2.cvtColor(x_test, cv2.COLOR_BGR2RGB)\n",
    "x_test = x_test/255\n",
    "x_test=np.array(x_test).reshape(1,256,256,3)"
   ]
  },
  {
   "cell_type": "code",
   "execution_count": 16,
   "id": "d480c337",
   "metadata": {},
   "outputs": [],
   "source": [
    "ypred = mymodel.predict(x_test)"
   ]
  },
  {
   "cell_type": "code",
   "execution_count": 17,
   "id": "9aa212f3",
   "metadata": {},
   "outputs": [
    {
     "data": {
      "text/plain": [
       "<matplotlib.image.AxesImage at 0x1f6407267c0>"
      ]
     },
     "execution_count": 17,
     "metadata": {},
     "output_type": "execute_result"
    },
    {
     "data": {
      "image/png": "[encoded data removed]",
      "text/plain": [
       "<Figure size 432x288 with 1 Axes>"
      ]
     },
     "metadata": {
      "needs_background": "light"
     },
     "output_type": "display_data"
    }
   ],
   "source": [
    "plt.imshow(ypred[0])"
   ]
  },
  {
   "cell_type": "code",
   "execution_count": 2,
   "id": "ed19a663",
   "metadata": {},
   "outputs": [],
   "source": [
    "IMG_WIDTH=400\n",
    "IMG_HEIGHT=400"
   ]
  },
  {
   "cell_type": "code",
   "execution_count": 3,
   "id": "118ecf09",
   "metadata": {},
   "outputs": [],
   "source": [
    "def SliceToHalf(img):\n",
    "    \n",
    "    border = int(len(img[1,:])/2)\n",
    "    image1 = img[:,:border]\n",
    "    image2 = img[:,border:]\n",
    "    del img\n",
    "    \n",
    "    return image1, image2"
   ]
  },
  {
   "cell_type": "code",
   "execution_count": 18,
   "id": "59dcf1b6",
   "metadata": {},
   "outputs": [],
   "source": [
    "import math\n",
    "def ApplyGammaCorrection(img):\n",
    "    # convert img to gray\n",
    "    gray = cv2.cvtColor(img, cv2.COLOR_RGB2GRAY)\n",
    "\n",
    "    # compute gamma = log(mid*255)/log(mean)\n",
    "    mid = 0.5\n",
    "    mean = np.mean(gray)\n",
    "    gamma = math.log(mid*255)/math.log(mean)\n",
    "\n",
    "    # do gamma correction\n",
    "    img_gamma1 = np.power(img, gamma).clip(0,255).astype(np.uint8)\n",
    "    del gray\n",
    "    \n",
    "    return img_gamma1"
   ]
  },
  {
   "cell_type": "code",
   "execution_count": 4,
   "id": "e3ddda67",
   "metadata": {},
   "outputs": [],
   "source": [
    "def ProcessImages(left_img,right_img):\n",
    "    \n",
    "    left_img=cv2.resize(left_img, (IMG_HEIGHT, IMG_WIDTH),interpolation = cv2.INTER_AREA)\n",
    "    right_img=cv2.resize(right_img, (IMG_HEIGHT, IMG_WIDTH),interpolation = cv2.INTER_AREA)\n",
    "    left_img = left_img.astype('float32')\n",
    "    right_img = right_img.astype('float32')\n",
    "    left_img /= 255 \n",
    "    right_img /= 255 \n",
    "    \n",
    "    return left_img,right_img"
   ]
  },
  {
   "cell_type": "code",
   "execution_count": 4,
   "id": "8ce314c7",
   "metadata": {},
   "outputs": [
    {
     "data": {
      "text/plain": [
       "6950"
      ]
     },
     "execution_count": 4,
     "metadata": {},
     "output_type": "execute_result"
    }
   ],
   "source": [
    "len(os.listdir(\"D:/pedestrian/processed_dataset/gamma_crop_dataset/new_image_dataset/\"))"
   ]
  },
  {
   "cell_type": "code",
   "execution_count": 5,
   "id": "687e667c",
   "metadata": {},
   "outputs": [
    {
     "data": {
      "text/plain": [
       "6950"
      ]
     },
     "execution_count": 5,
     "metadata": {},
     "output_type": "execute_result"
    }
   ],
   "source": [
    "len(os.listdir(\"D:/pedestrian/processed_dataset/gamma_crop_dataset/new_mask_dataset/\"))"
   ]
  },
  {
   "cell_type": "code",
   "execution_count": 5,
   "id": "55ef53a3",
   "metadata": {},
   "outputs": [],
   "source": [
    "def create_dataset(img_folder,write_folder,name,idx):\n",
    "   \n",
    "    for dir1 in os.listdir(img_folder):\n",
    "        for file in tqdm(os.listdir(os.path.join(img_folder, dir1))):\n",
    "            if file.endswith(\"_leftImg8bit.png\"):\n",
    "                image_path= os.path.join(img_folder, dir1,  file)\n",
    "                image= cv2.imread( image_path, cv2.COLOR_BGR2RGB)\n",
    "                image = ApplyGammaCorrection(image)\n",
    "                image=np.array(image)\n",
    "                left_img,right_img=SliceToHalf(image)\n",
    "                left_img,right_img=ProcessImages(left_img,right_img)\n",
    "                \n",
    "                cv2.imwrite(os.path.join(write_folder , str(name)+str(idx)+'.png'), 255*left_img)\n",
    "                idx+=1\n",
    "                cv2.imwrite(os.path.join(write_folder , str(name)+str(idx)+'.png'), 255*right_img)\n",
    "                idx+=1 \n",
    "\n",
    "                del left_img\n",
    "                del right_img\n",
    "                \n",
    "                \n",
    "            \"\"\"if file.endswith(\"_instanceIds.png\"):\n",
    "                image_path= os.path.join(img_folder, dir1,  file)\n",
    "                image= cv2.imread( image_path, cv2.COLOR_BGR2RGB)\n",
    "                image=np.array(image)\n",
    "                left_img,right_img=SliceToHalf(image)\n",
    "                left_img,right_img=ProcessImages(left_img,right_img)\n",
    "                \n",
    "                cv2.imwrite(os.path.join(write_folder , str(name)+str(idx)+'.png'), 255*left_img)\n",
    "                idx+=1\n",
    "                cv2.imwrite(os.path.join(write_folder , str(name)+str(idx)+'.png'), 255*right_img)\n",
    "                idx+=1 \n",
    "\n",
    "                del left_img\n",
    "                del right_img\"\"\"\n",
    "            \n",
    "            if file.endswith(\"_gtFine_color.png\"):\n",
    "                image_path= os.path.join(img_folder, dir1,  file)\n",
    "                image= cv2.imread( image_path, cv2.COLOR_BGR2RGB)\n",
    "                image=np.array(image)\n",
    "                left_img,right_img=SliceToHalf(image)\n",
    "                left_img,right_img=ProcessImages(left_img,right_img)\n",
    "                \n",
    "                cv2.imwrite(os.path.join(write_folder , str(name)+str(idx)+'.png'), 255*left_img)\n",
    "                idx+=1\n",
    "                cv2.imwrite(os.path.join(write_folder , str(name)+str(idx)+'.png'), 255*right_img)\n",
    "                idx+=1 \n",
    "                \n",
    "                del left_img\n",
    "                del right_img\n",
    "            \n",
    "                \n",
    "    return idx"
   ]
  },
  {
   "cell_type": "code",
   "execution_count": 25,
   "id": "bc8654d2",
   "metadata": {},
   "outputs": [
    {
     "name": "stderr",
     "output_type": "stream",
     "text": [
      "100%|████████████████████████████████████████████████████████████████████████████████| 267/267 [02:08<00:00,  2.07it/s]\n",
      "100%|██████████████████████████████████████████████████████████████████████████████████| 59/59 [00:24<00:00,  2.45it/s]\n",
      "100%|████████████████████████████████████████████████████████████████████████████████| 174/174 [01:20<00:00,  2.16it/s]"
     ]
    },
    {
     "name": "stdout",
     "output_type": "stream",
     "text": [
      "6950\n"
     ]
    },
    {
     "name": "stderr",
     "output_type": "stream",
     "text": [
      "\n"
     ]
    }
   ],
   "source": [
    "index=create_dataset(r'D:/pedestrian/dataset/leftImg8bit_trainvaltest/leftImg8bit/train/rest_citys',\"D:/pedestrian/processed_dataset/new_image_dataset/\",\"image\",0)\n",
    "index=create_dataset(r'D:/pedestrian/dataset/leftImg8bit_trainvaltest/leftImg8bit/val',\"D:/pedestrian/processed_dataset/new_image_dataset/\",\"image\",index)\n",
    "print(index)\n"
   ]
  },
  {
   "cell_type": "code",
   "execution_count": 31,
   "id": "8f54502b",
   "metadata": {},
   "outputs": [
    {
     "name": "stderr",
     "output_type": "stream",
     "text": [
      "100%|███████████████████████████████████████████████████████████████████████████████| 696/696 [00:05<00:00, 131.91it/s]\n",
      "100%|███████████████████████████████████████████████████████████████████████████████| 384/384 [00:02<00:00, 137.12it/s]\n",
      "100%|█████████████████████████████████████████████████████████████████████████████| 1264/1264 [00:09<00:00, 139.03it/s]\n",
      "100%|███████████████████████████████████████████████████████████████████████████████| 616/616 [00:04<00:00, 135.39it/s]\n",
      "100%|███████████████████████████████████████████████████████████████████████████████| 340/340 [00:02<00:00, 123.82it/s]\n",
      "100%|███████████████████████████████████████████████████████████████████████████████| 884/884 [00:06<00:00, 133.90it/s]\n",
      "100%|███████████████████████████████████████████████████████████████████████████████| 436/436 [00:03<00:00, 129.40it/s]\n",
      "100%|███████████████████████████████████████████████████████████████████████████████| 992/992 [00:09<00:00, 106.74it/s]\n",
      "100%|███████████████████████████████████████████████████████████████████████████████| 784/784 [00:06<00:00, 115.31it/s]\n",
      "100%|███████████████████████████████████████████████████████████████████████████████| 476/476 [00:03<00:00, 133.51it/s]\n",
      "100%|███████████████████████████████████████████████████████████████████████████████| 396/396 [00:02<00:00, 133.69it/s]\n",
      "100%|███████████████████████████████████████████████████████████████████████████████| 376/376 [00:02<00:00, 131.83it/s]\n",
      "100%|█████████████████████████████████████████████████████████████████████████████| 1460/1460 [00:14<00:00, 100.88it/s]\n",
      "100%|███████████████████████████████████████████████████████████████████████████████| 784/784 [00:05<00:00, 136.84it/s]\n",
      "100%|███████████████████████████████████████████████████████████████████████████████| 576/576 [00:04<00:00, 127.49it/s]\n",
      "100%|███████████████████████████████████████████████████████████████████████████████| 380/380 [00:03<00:00, 114.59it/s]\n",
      "100%|███████████████████████████████████████████████████████████████████████████████| 568/568 [00:04<00:00, 126.14it/s]\n",
      "100%|███████████████████████████████████████████████████████████████████████████████| 488/488 [00:04<00:00, 113.19it/s]\n",
      "100%|█████████████████████████████████████████████████████████████████████████████| 1068/1068 [00:08<00:00, 126.68it/s]\n",
      "100%|███████████████████████████████████████████████████████████████████████████████| 236/236 [00:01<00:00, 126.31it/s]\n",
      "100%|███████████████████████████████████████████████████████████████████████████████| 696/696 [00:05<00:00, 122.88it/s]"
     ]
    },
    {
     "name": "stdout",
     "output_type": "stream",
     "text": [
      "6950\n"
     ]
    },
    {
     "name": "stderr",
     "output_type": "stream",
     "text": [
      "\n"
     ]
    }
   ],
   "source": [
    "index= create_dataset(r'D:/pedestrian/dataset/gtFine_trainvaltest/gtFine/train',\"D:/pedestrian/processed_dataset/new_mask_dataset/\",\"mask\",0)\n",
    "index= create_dataset(r'D:/pedestrian/dataset/gtFine_trainvaltest/gtFine/val',\"D:/pedestrian/processed_dataset/new_mask_dataset/\",\"mask\",index)\n",
    "print(index)"
   ]
  },
  {
   "cell_type": "code",
   "execution_count": 8,
   "id": "ff741226",
   "metadata": {},
   "outputs": [
    {
     "name": "stderr",
     "output_type": "stream",
     "text": [
      "100%|██████████████████████████████████████████████████████████████████████████████| 1068/1068 [00:15<00:00, 66.99it/s]\n",
      "100%|████████████████████████████████████████████████████████████████████████████████| 236/236 [00:03<00:00, 72.94it/s]\n",
      "100%|████████████████████████████████████████████████████████████████████████████████| 696/696 [00:10<00:00, 68.04it/s]\n"
     ]
    }
   ],
   "source": [
    "#index = create_dataset(r'D:/pedestrian/dataset/gtFine_trainvaltest/gtFine/train+val/train',\"D:/pedestrian/dataset/all_class_masks\",\"mask\",0)\n",
    "ind = create_dataset(r'D:/pedestrian/dataset/gtFine_trainvaltest/gtFine/train+val/val',\"D:/pedestrian/dataset/all_class_masks\",\"mask\",index)"
   ]
  },
  {
   "cell_type": "code",
   "execution_count": null,
   "id": "ad4e9b60",
   "metadata": {},
   "outputs": [],
   "source": [
    "print(len(train_data))\n",
    "print(len(val_data))"
   ]
  },
  {
   "cell_type": "code",
   "execution_count": null,
   "id": "d8e91194",
   "metadata": {},
   "outputs": [],
   "source": [
    "img_dataset = train_data+val_data\n",
    "print(len(img_dataset))"
   ]
  },
  {
   "cell_type": "code",
   "execution_count": 134,
   "id": "dadec2ab",
   "metadata": {},
   "outputs": [],
   "source": [
    "image_dataset = []\n",
    "\n",
    "def create_dataset_extra(img_folder):\n",
    "   \n",
    "    for dir1 in os.listdir(img_folder):\n",
    "        for file in os.listdir(os.path.join(img_folder, dir1)):\n",
    "            if file.endswith(\".png\"):\n",
    "                image_path= os.path.join(img_folder, dir1,  file)\n",
    "                image= cv2.imread(image_path)\n",
    "                image = cv2.cvtColor(image, cv2.COLOR_BGR2GRAY)\n",
    "                image=np.array(image)\n",
    "                image=cv2.resize(image, (IMG_HEIGHT, IMG_WIDTH),interpolation = cv2.INTER_AREA)\n",
    "                image = image.astype('float32')\n",
    "                image /= 255\n",
    "                image_dataset.append(image)\n",
    "            "
   ]
  },
  {
   "cell_type": "code",
   "execution_count": 135,
   "id": "b717e770",
   "metadata": {},
   "outputs": [],
   "source": [
    "#create_dataset_extra(\"C:/Users/punti/PennFudanPed/PennFudanPed/PNGImages/\")\n",
    "create_dataset_extra(\"C:/Users/punti/PennFudanPed/PennFudanPed/PedMasks/\")"
   ]
  },
  {
   "cell_type": "code",
   "execution_count": 137,
   "id": "ae52f7ca",
   "metadata": {},
   "outputs": [
    {
     "data": {
      "text/plain": [
       "<matplotlib.image.AxesImage at 0x1f48c466f10>"
      ]
     },
     "execution_count": 137,
     "metadata": {},
     "output_type": "execute_result"
    },
    {
     "data": {
      "image/png": "[encoded data removed]",
      "text/plain": [
       "<Figure size 432x288 with 1 Axes>"
      ]
     },
     "metadata": {
      "needs_background": "light"
     },
     "output_type": "display_data"
    }
   ],
   "source": [
    "plt.imshow(image_dataset[45],cmap=\"gray\")"
   ]
  },
  {
   "cell_type": "code",
   "execution_count": 138,
   "id": "0e7f8ff1",
   "metadata": {},
   "outputs": [],
   "source": [
    "for img in image_dataset:\n",
    "    for i in range(0,400):\n",
    "        for j in range(0,400):\n",
    "            if img[i,j] != 0:\n",
    "                img[i,j] = 1\n",
    "            else:\n",
    "                img[i,j] = 0\n",
    "            "
   ]
  },
  {
   "cell_type": "code",
   "execution_count": 139,
   "id": "2d68ca77",
   "metadata": {},
   "outputs": [
    {
     "data": {
      "text/plain": [
       "<matplotlib.image.AxesImage at 0x1f48c48e310>"
      ]
     },
     "execution_count": 139,
     "metadata": {},
     "output_type": "execute_result"
    },
    {
     "data": {
      "image/png": "[encoded data removed]",
      "text/plain": [
       "<Figure size 432x288 with 1 Axes>"
      ]
     },
     "metadata": {
      "needs_background": "light"
     },
     "output_type": "display_data"
    }
   ],
   "source": [
    "plt.imshow(image_dataset[45],cmap=\"gray\")"
   ]
  },
  {
   "cell_type": "code",
   "execution_count": 62,
   "id": "41794d2b",
   "metadata": {},
   "outputs": [],
   "source": [
    " for img in image_dataset:   \n",
    "    img = cv2.cvtColor(img, cv2.COLOR_RGB2BGR)"
   ]
  },
  {
   "cell_type": "code",
   "execution_count": 63,
   "id": "f8ea3d42",
   "metadata": {},
   "outputs": [
    {
     "data": {
      "text/plain": [
       "(400, 400, 3)"
      ]
     },
     "execution_count": 63,
     "metadata": {},
     "output_type": "execute_result"
    }
   ],
   "source": [
    "image_dataset[45].shape"
   ]
  },
  {
   "cell_type": "code",
   "execution_count": null,
   "id": "1c5a5279",
   "metadata": {},
   "outputs": [],
   "source": [
    "train_mask, train_mask_names = create_dataset_mask(r'D:/pedestrian/dataset/gtFine_trainvaltest/gtFine/train')\n",
    "val_mask, val_mask_names     = create_dataset_mask(r'D:/pedestrian/dataset/gtFine_trainvaltest/gtFine/val')"
   ]
  },
  {
   "cell_type": "code",
   "execution_count": null,
   "id": "eb5abeb7",
   "metadata": {},
   "outputs": [],
   "source": [
    "print(len(train_mask))\n",
    "print(len(val_mask))"
   ]
  },
  {
   "cell_type": "code",
   "execution_count": null,
   "id": "4ce055cc",
   "metadata": {},
   "outputs": [],
   "source": [
    "plt.imshow(val_mask[400])"
   ]
  },
  {
   "cell_type": "code",
   "execution_count": null,
   "id": "feed22b2",
   "metadata": {},
   "outputs": [],
   "source": [
    "mask_dataset = train_mask+val_mask\n",
    "print(len(mask_dataset))"
   ]
  },
  {
   "cell_type": "code",
   "execution_count": 141,
   "id": "6ce9d6e5",
   "metadata": {},
   "outputs": [],
   "source": [
    "def saveDataset(path,dataset,name):\n",
    "    for i in range(len(dataset)):\n",
    "        cv2.imwrite(os.path.join(path , str(name)+str(i)+'.png'), 255*dataset[i])\n",
    "\n",
    "#saveDataset(\"D:/pedestrian/processed_dataset/img_dataset/\",img_dataset,\"image\")\n",
    "#saveDataset(\"D:/pedestrian/processed_dataset/mask_dataset/\",mask_dataset,\"mask\")"
   ]
  },
  {
   "cell_type": "code",
   "execution_count": 125,
   "id": "e01a38d2",
   "metadata": {},
   "outputs": [],
   "source": [
    "saveDataset(\"C:/Users/punti/PennFudanPed/PennFudanPed/resized_images\",image_dataset,\"image\")"
   ]
  },
  {
   "cell_type": "code",
   "execution_count": 142,
   "id": "9eb9214f",
   "metadata": {},
   "outputs": [],
   "source": [
    "saveDataset(\"C:/Users/punti/PennFudanPed/PennFudanPed/resized_masks\",image_dataset,\"mask\")"
   ]
  },
  {
   "cell_type": "code",
   "execution_count": null,
   "id": "cfd717ac",
   "metadata": {},
   "outputs": [],
   "source": []
  }
 ],
 "metadata": {
  "kernelspec": {
   "display_name": "Python 3",
   "language": "python",
   "name": "python3"
  },
  "language_info": {
   "codemirror_mode": {
    "name": "ipython",
    "version": 3
   },
   "file_extension": ".py",
   "mimetype": "text/x-python",
   "name": "python",
   "nbconvert_exporter": "python",
   "pygments_lexer": "ipython3",
   "version": "3.8.8"
  },
  "papermill": {
   "default_parameters": {},
   "duration": 1701.424054,
   "end_time": "2021-11-06T20:07:17.075445",
   "environment_variables": {},
   "exception": null,
   "input_path": "__notebook__.ipynb",
   "output_path": "__notebook__.ipynb",
   "parameters": {},
   "start_time": "2021-11-06T19:38:55.651391",
   "version": "2.3.3"
  }
 },
 "nbformat": 4,
 "nbformat_minor": 5
}
